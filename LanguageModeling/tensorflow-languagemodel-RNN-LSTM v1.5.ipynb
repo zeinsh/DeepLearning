{
 "cells": [
  {
   "cell_type": "markdown",
   "metadata": {},
   "source": [
    "In this version(1.5): \n",
    "\n",
    "- Evaluation using perplexity - https://stackoverflow.com/questions/41881308/how-to-calculate-perplexity-of-rnn-in-tensorflow\n",
    "    - paint curve\n",
    "- output log; done\n",
    "\n",
    "\n",
    "In the upcoming versions:\n",
    "\n",
    "- Text processing\n",
    "    - punctuations, insert space to the right only\n",
    "    - inverse transform\n",
    "- calculate perplexity during training from loss function\n",
    "- Penn Treebank http://www.nltk.org/howto/corpus.html\n",
    "- apply to other languages\n",
    "    - Russian\n",
    "    - Arabic\n",
    "    - French\n",
    "- apply this network for char-level language modeling.\n",
    "- label smoothing; Christian Szegedy, Vincent Vanhoucke, Sergey Ioffe, Jonathon Shlens, and Zbigniew Wojna.\n",
    "Rethinking the inception architecture for computer vision. CoRR, abs/1512.00567, 2015.\n",
    "\n",
    "\n",
    "- Training, fix number of token in a single epoch and pass the state of an epoch to the next epoch\n",
    "\n",
    "\n",
    "\n",
    "-  paper RECURRENT NEURAL NETWORK REGULARIZATION,2015\n",
    "- https://arxiv.org/pdf/1308.0850.pdf\n",
    "\n",
    "For restoring previous check-point, I was forced to define the whole model in this notebook, rather that importing it from an external .py module."
   ]
  },
  {
   "cell_type": "code",
   "execution_count": 1,
   "metadata": {
    "collapsed": false,
    "scrolled": true
   },
   "outputs": [
    {
     "name": "stdout",
     "output_type": "stream",
     "text": [
      "[nltk_data] Downloading package stopwords to /home/zein/nltk_data...\n",
      "[nltk_data]   Package stopwords is already up-to-date!\n"
     ]
    }
   ],
   "source": [
    "import numpy as np\n",
    "from matplotlib import pyplot as plt\n",
    "from lib.dictionarymd import Dictionary\n",
    "from lib.textprocessingmd import convert_text\n",
    "from lib.fileoperationmd import getFilesFromPath,readTxtFromFile,log,clearLog"
   ]
  },
  {
   "cell_type": "code",
   "execution_count": 2,
   "metadata": {
    "collapsed": true
   },
   "outputs": [],
   "source": [
    "from hyper import HyperParameters\n",
    "hp=HyperParameters()"
   ]
  },
  {
   "cell_type": "code",
   "execution_count": 3,
   "metadata": {
    "collapsed": false
   },
   "outputs": [
    {
     "name": "stdout",
     "output_type": "stream",
     "text": [
      "199.txt not opened\n"
     ]
    }
   ],
   "source": [
    "# Load articles - form dictionary - load dictionary\n",
    "filenames=getFilesFromPath(hp.DATAPATH)\n",
    "dataset=[]\n",
    "text=\"\"\n",
    "for fn in filenames:\n",
    "    ntext=convert_text(readTxtFromFile(hp.DATAPATH,fn))\n",
    "    text+=ntext\n",
    "    dataset.append(ntext)\n",
    "\n",
    "dictionary=Dictionary()\n",
    "dictionary.make_vocab(text,hp.VOCPATH,hp.VOCFILE)\n",
    "dictionary.load_vocab(hp.VOCPATH,hp.VOCFILE)"
   ]
  },
  {
   "cell_type": "markdown",
   "metadata": {},
   "source": [
    "# Train"
   ]
  },
  {
   "cell_type": "code",
   "execution_count": 4,
   "metadata": {
    "collapsed": false
   },
   "outputs": [
    {
     "name": "stderr",
     "output_type": "stream",
     "text": [
      "/home/zein/.local/lib/python3.5/site-packages/h5py/__init__.py:36: FutureWarning: Conversion of the second argument of issubdtype from `float` to `np.floating` is deprecated. In future, it will be treated as `np.float64 == np.dtype(float).type`.\n",
      "  from ._conv import register_converters as _register_converters\n"
     ]
    }
   ],
   "source": [
    "import tensorflow as tf\n",
    "import numpy as np\n",
    "from RNN_LSTM_LM import LSTMModel\n",
    "from helpers import batches_generator\n",
    "from helpers import Beam\n",
    "from helpers import beam_search,getBestCandidate\n",
    "\n",
    "clearLog(hp.LOGPATH,hp.LOGFILE)\n",
    "tf.reset_default_graph()"
   ]
  },
  {
   "cell_type": "code",
   "execution_count": 5,
   "metadata": {
    "collapsed": false
   },
   "outputs": [
    {
     "name": "stdout",
     "output_type": "stream",
     "text": [
      "WARNING:tensorflow:From /home/zein/.local/lib/python3.5/site-packages/tensorflow/python/ops/clip_ops.py:113: calling reduce_sum (from tensorflow.python.ops.math_ops) with keep_dims is deprecated and will be removed in a future version.\n",
      "Instructions for updating:\n",
      "keep_dims is deprecated, use keepdims instead\n"
     ]
    }
   ],
   "source": [
    "model = LSTMModel(vocabulary_size=len(dictionary.word2idx), n_tags=len(dictionary.word2idx), embedding_dim=hp.embedding_dim,\n",
    "                  n_hidden_rnn=hp.n_hidden_rnn, PAD_index=dictionary.word2idx['<PAD>'])\n",
    "sess = tf.Session()\n",
    "sess.run(tf.global_variables_initializer())\n",
    "#model_checkpoint = './model.chkpt'\n",
    "saver = tf.train.Saver()"
   ]
  },
  {
   "cell_type": "code",
   "execution_count": 6,
   "metadata": {
    "collapsed": false,
    "scrolled": false
   },
   "outputs": [],
   "source": [
    "def compute_perplexity(sess,model):\n",
    "    test=\"The pair are facing lengthy bans for the missed tests, including one on the eve of last year's Athens Olympics.\"\n",
    "    vec=[test]\n",
    "    for x_batch, y_batch, lengths in batches_generator(hp.batch_size, vec,dictionary):\n",
    "        per=model.calculatePerplexity(sess,x_batch,y_batch, lengths)\n",
    "    return np.exp(per)\n",
    "perplexity=[]"
   ]
  },
  {
   "cell_type": "code",
   "execution_count": null,
   "metadata": {
    "collapsed": false,
    "scrolled": false
   },
   "outputs": [
    {
     "name": "stdout",
     "output_type": "stream",
     "text": [
      "ُEboch 33/50.batch 111/511 \n",
      "Epoch 32: <START> I ' m happy with a bit of confidence and we are not going to play in a few games , but it ' ll play . It is a lot to be the first half , but I ' m going on a couple of my players . I think I am confident , \" she told his first WTA title in Madrid and he is the same <UNK> , \" said the American , who had been a great start to the club , but it was a good chance of his first Grand Prix in a new match , and the first - half replacement against Scotland , but it ' d have a good chance . #endl #endl But he has been linked with the first time , the world number one , the IAAF ' ' ' ' ' <UNK> and a new <UNK> and the; perplexity: 244.07106018066406\n"
     ]
    },
    {
     "data": {
      "image/png": "[encoded data removed]",
      "text/plain": [
       "<Figure size 432x288 with 1 Axes>"
      ]
     },
     "metadata": {},
     "output_type": "display_data"
    }
   ],
   "source": [
    "from IPython.display import clear_output\n",
    "test=[]\n",
    "learning_rate=hp.learning_rate\n",
    "print('Start training... \\n')\n",
    "results=\"\"\n",
    "start=0\n",
    "for epoch in range(start,hp.n_epochs):\n",
    "    newPerp=compute_perplexity(sess,model)\n",
    "    perplexity.append(newPerp)\n",
    "    newc=getBestCandidate(sess,model,150,\"I\",dictionary)\n",
    "    results=\"\\nEpoch {}: {}; perplexity: {}\".format(epoch,newc, newPerp)\n",
    "    log(hp.LOGPATH,hp.LOGFILE,results)\n",
    "    # For each epoch evaluate the model on train and validation data\n",
    "    #print('-' * 20 + ' Epoch {} '.format(epoch+1) + 'of {} '.format(hp.n_epochs) + '-' * 20+results)\n",
    "    \n",
    "    counter=0\n",
    "    # Train the model\n",
    "    for x_batch, y_batch, lengths in batches_generator(hp.batch_size, dataset,dictionary):\n",
    "        \n",
    "        clear_output(wait=True)\n",
    "        \n",
    "        counter=counter+1\n",
    "        print(\"ُEboch {}/{}.batch {}/{} {}\".format(epoch+1,hp.n_epochs,counter,len(dataset)//hp.batch_size,results))\n",
    "        plt.plot(perplexity)\n",
    "        plt.show()\n",
    "        model.train_on_batch(sess, x_batch, y_batch, lengths, learning_rate, hp.dropout_keep_probability)\n",
    "    # Decaying the learning rate\n",
    "    saver.save(sess, hp.MODEL_CHKPNT_PATH,global_step=epoch)\n",
    "    learning_rate = learning_rate / 1.61#hp.learning_rate_decay\n",
    "    \n",
    "print('...training finished.')"
   ]
  },
  {
   "cell_type": "code",
   "execution_count": null,
   "metadata": {
    "collapsed": false
   },
   "outputs": [],
   "source": [
    "%time\n",
    "# Generate text of 1000 words\n",
    "full=\"\"\"The pair are facing lengthy bans for the missed tests, including one on the eve of last year's Athens Olympics. \n",
    "They were set to learn their fate by the end of February, but late evidence from them has pushed the date back. \"A decision is now expected by around mid-March,\" said one of their lawyers, Michalis Dimitrakopoulos.\"\"\"\n",
    "print(getBestCandidate(sess,model,1000,'I',dictionary))"
   ]
  },
  {
   "cell_type": "code",
   "execution_count": 32,
   "metadata": {
    "collapsed": true
   },
   "outputs": [],
   "source": [
    "#todo\n",
    "\n",
    "# version2\n",
    "# output\n",
    "# normalize probabilities\n",
    "# Evaluation\n",
    "\n",
    "# char-level\n",
    "\n",
    "# larger network\n",
    "\n",
    "# Russian\n",
    "# Arabic \n",
    "# French\n",
    "\n",
    "# paper RECURRENT NEURAL NETWORK REGULARIZATION,2015"
   ]
  }
 ],
 "metadata": {
  "kernelspec": {
   "display_name": "Python 3",
   "language": "python",
   "name": "python3"
  },
  "language_info": {
   "codemirror_mode": {
    "name": "ipython",
    "version": 3
   },
   "file_extension": ".py",
   "mimetype": "text/x-python",
   "name": "python",
   "nbconvert_exporter": "python",
   "pygments_lexer": "ipython3",
   "version": "3.5.2"
  }
 },
 "nbformat": 4,
 "nbformat_minor": 2
}
