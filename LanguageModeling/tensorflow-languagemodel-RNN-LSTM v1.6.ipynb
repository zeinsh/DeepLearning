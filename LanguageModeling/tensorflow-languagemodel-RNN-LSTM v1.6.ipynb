{
 "cells": [
  {
   "cell_type": "markdown",
   "metadata": {},
   "source": [
    "In this version(1.6): \n",
    "- Text processing\n",
    "    - punctuations, insert space to the right only; done\n",
    "    - inverse transform; done\n",
    "- calculate perplexity during training from loss function.; done\n",
    "- Penn Treebank http://www.nltk.org/howto/corpus.html. \n",
    "\n",
    "In the upcoming versions:\n",
    "\n",
    "- apply to other languages\n",
    "    - Russian\n",
    "    - Arabic\n",
    "    - French\n",
    "- apply this network for char-level language modeling.\n",
    "- label smoothing; Christian Szegedy, Vincent Vanhoucke, Sergey Ioffe, Jonathon Shlens, and Zbigniew Wojna.\n",
    "Rethinking the inception architecture for computer vision. CoRR, abs/1512.00567, 2015.\n",
    "\n",
    "\n",
    "- Training, fix number of token in a single epoch and pass the state of an epoch to the next epoch\n",
    "\n",
    "\n",
    "\n",
    "-  paper RECURRENT NEURAL NETWORK REGULARIZATION,2015\n",
    "- https://arxiv.org/pdf/1308.0850.pdf\n",
    "\n",
    "For restoring previous check-point, I was forced to define the whole model in this notebook, rather that importing it from an external .py module."
   ]
  },
  {
   "cell_type": "code",
   "execution_count": 1,
   "metadata": {
    "collapsed": false,
    "scrolled": true
   },
   "outputs": [
    {
     "name": "stdout",
     "output_type": "stream",
     "text": [
      "[nltk_data] Downloading package stopwords to /home/zein/nltk_data...\n",
      "[nltk_data]   Package stopwords is already up-to-date!\n"
     ]
    }
   ],
   "source": [
    "import numpy as np\n",
    "from matplotlib import pyplot as plt\n",
    "from lib.dictionarymd import Dictionary\n",
    "from lib.textprocessingmd import convert_text,restore_text\n",
    "from lib.fileoperationmd import getFilesFromPath,readTxtFromFile,log,clearLog"
   ]
  },
  {
   "cell_type": "code",
   "execution_count": 2,
   "metadata": {
    "collapsed": true
   },
   "outputs": [],
   "source": [
    "from hyper import HyperParameters\n",
    "hp=HyperParameters()"
   ]
  },
  {
   "cell_type": "code",
   "execution_count": 3,
   "metadata": {
    "collapsed": true
   },
   "outputs": [],
   "source": [
    "def loadData(path,fname):\n",
    "    text=readTxtFromFile(path,fname)\n",
    "    return [line for line in text.split('\\n') if len(line)>10]"
   ]
  },
  {
   "cell_type": "code",
   "execution_count": 4,
   "metadata": {
    "collapsed": false
   },
   "outputs": [],
   "source": [
    "# --- Load articles - form dictionary - load dictionary\n",
    "hp.DATAPATH='./data/ptb'\n",
    "fname_train='ptb.train.txt'\n",
    "filenames=getFilesFromPath(hp.DATAPATH)\n",
    "text=readTxtFromFile(hp.DATAPATH,fname_train)\n",
    "\n",
    "dictionary=Dictionary()\n",
    "dictionary.make_vocab(text,hp.VOCPATH,hp.VOCFILE)"
   ]
  },
  {
   "cell_type": "code",
   "execution_count": 5,
   "metadata": {
    "collapsed": false
   },
   "outputs": [],
   "source": [
    "hp.DATAPATH='./data/ptb/'\n",
    "fname_train='ptb.train.txt'\n",
    "fname_test ='ptb.test.txt'\n",
    "fname_valid='ptb.valid.txt'\n",
    "\n",
    "dictionary=Dictionary()\n",
    "dictionary.load_vocab(hp.VOCPATH,hp.VOCFILE)\n",
    "dataset=[]\n",
    "\n",
    "trainset=loadData(hp.DATAPATH,fname_train)"
   ]
  },
  {
   "cell_type": "markdown",
   "metadata": {},
   "source": [
    "# Train"
   ]
  },
  {
   "cell_type": "code",
   "execution_count": 6,
   "metadata": {
    "collapsed": false
   },
   "outputs": [
    {
     "name": "stderr",
     "output_type": "stream",
     "text": [
      "/home/zein/.local/lib/python3.5/site-packages/h5py/__init__.py:36: FutureWarning: Conversion of the second argument of issubdtype from `float` to `np.floating` is deprecated. In future, it will be treated as `np.float64 == np.dtype(float).type`.\n",
      "  from ._conv import register_converters as _register_converters\n"
     ]
    }
   ],
   "source": [
    "import tensorflow as tf\n",
    "import numpy as np\n",
    "from RNN_LSTM_LM import LSTMModel\n",
    "from helpers import batches_generator\n",
    "from helpers import Beam\n",
    "from helpers import beam_search,getBestCandidate\n",
    "\n",
    "clearLog(hp.LOGPATH,hp.LOGFILE)\n",
    "tf.reset_default_graph()"
   ]
  },
  {
   "cell_type": "code",
   "execution_count": 7,
   "metadata": {
    "collapsed": false
   },
   "outputs": [
    {
     "name": "stdout",
     "output_type": "stream",
     "text": [
      "WARNING:tensorflow:From /home/zein/.local/lib/python3.5/site-packages/tensorflow/python/ops/clip_ops.py:113: calling reduce_sum (from tensorflow.python.ops.math_ops) with keep_dims is deprecated and will be removed in a future version.\n",
      "Instructions for updating:\n",
      "keep_dims is deprecated, use keepdims instead\n"
     ]
    }
   ],
   "source": [
    "model = LSTMModel(vocabulary_size=len(dictionary.word2idx), n_tags=len(dictionary.word2idx), embedding_dim=hp.embedding_dim,\n",
    "                  n_hidden_rnn=hp.n_hidden_rnn, PAD_index=dictionary.word2idx['<PAD>'])\n",
    "sess = tf.Session()\n",
    "sess.run(tf.global_variables_initializer())\n",
    "#model_checkpoint = './model.chkpt'\n",
    "saver = tf.train.Saver()"
   ]
  },
  {
   "cell_type": "code",
   "execution_count": 8,
   "metadata": {
    "collapsed": false,
    "scrolled": false
   },
   "outputs": [],
   "source": [
    "def compute_perplexity(sess,model):\n",
    "    test=\"The pair are facing lengthy bans for the missed tests, including one on the eve of last year's Athens Olympics.\"\n",
    "    vec=[test]\n",
    "    for x_batch, y_batch, lengths in batches_generator(hp.batch_size, vec,dictionary):\n",
    "        per=model.calculatePerplexity(sess,x_batch,y_batch, lengths)\n",
    "    return np.exp(per)\n",
    "perplexity=[]"
   ]
  },
  {
   "cell_type": "code",
   "execution_count": 9,
   "metadata": {
    "collapsed": true
   },
   "outputs": [],
   "source": [
    "hp.batch_size=64"
   ]
  },
  {
   "cell_type": "code",
   "execution_count": null,
   "metadata": {
    "collapsed": false,
    "scrolled": false
   },
   "outputs": [
    {
     "name": "stdout",
     "output_type": "stream",
     "text": [
      "ُEboch 1/50.batch 105/654 \n",
      "Epoch 0: <start> the meaning of life is a $ N a year earlier the new york-based stock exchange commission 's N N N stake in N million francs N cents a $ of N million or N N to yield $ N million or $ N million or $ N a $ N billion loss from N N in the year-earlier quarter from $ $ $ $ N billion or a share from the year earlier a share on N N in N N N N one week in N million shares in september N N N in the third period to $ $ a year of N N to N million francs from the N N of a $ N N cents in the third period to the third of N N and N N of the third period in september and a year earlier the third quarter of $ $ a share in the third; perplexity: 261.8497619628906\n"
     ]
    },
    {
     "data": {
      "image/png": "[encoded data removed]",
      "text/plain": [
       "<Figure size 432x288 with 1 Axes>"
      ]
     },
     "metadata": {},
     "output_type": "display_data"
    }
   ],
   "source": [
    "from IPython.display import clear_output\n",
    "test=[]\n",
    "learning_rate=hp.learning_rate\n",
    "print('Start training... \\n')\n",
    "results=\"\"\n",
    "start=0\n",
    "for epoch in range(start,hp.n_epochs):\n",
    "    newPerp=compute_perplexity(sess,model)\n",
    "    #perplexity.append(newPerp)\n",
    "    newc=getBestCandidate(sess,model,150,\"the meaning of life is\",dictionary)\n",
    "    results=\"\\nEpoch {}: {}; perplexity: {}\".format(epoch,newc, newPerp)\n",
    "    log(hp.LOGPATH,hp.LOGFILE,results)\n",
    "    # For each epoch evaluate the model on train and validation data\n",
    "    #print('-' * 20 + ' Epoch {} '.format(epoch+1) + 'of {} '.format(hp.n_epochs) + '-' * 20+results)\n",
    "    \n",
    "    counter=0\n",
    "    # Train the model\n",
    "    for x_batch, y_batch, lengths in batches_generator(hp.batch_size, trainset,dictionary):\n",
    "        \n",
    "        clear_output(wait=True)\n",
    "        \n",
    "        counter=counter+1\n",
    "        print(\"ُEboch {}/{}.batch {}/{} {}\".format(epoch+1,hp.n_epochs,counter,len(trainset)//hp.batch_size,results))\n",
    "        plt.plot(perplexity)\n",
    "        plt.grid()\n",
    "        plt.show()\n",
    "        loss=model.train_on_batch(sess, x_batch, y_batch, lengths, learning_rate, hp.dropout_keep_probability)\n",
    "        if counter%100==0:\n",
    "            perplexity.append(loss)\n",
    "    # Decaying the learning rate\n",
    "    saver.save(sess, hp.MODEL_CHKPNT_PATH,global_step=epoch)\n",
    "    learning_rate = learning_rate / 1.61#hp.learning_rate_decay\n",
    "    \n",
    "print('...training finished.')"
   ]
  },
  {
   "cell_type": "code",
   "execution_count": 10,
   "metadata": {
    "collapsed": false,
    "scrolled": false
   },
   "outputs": [
    {
     "name": "stdout",
     "output_type": "stream",
     "text": [
      "CPU times: user 0 ns, sys: 0 ns, total: 0 ns\n",
      "Wall time: 12.2 µs\n",
      "<START> I have been a lot of <UNK> and he was be a great <UNK> <UNK> <UNK> \" \n",
      ">>>> The \" I don' I think I think it is <UNK> \" he is not a great in a lot of <UNK> \" he was a <UNK> \" \n",
      ">>>> \n",
      ">>>> \" I have to <UNK> <UNK> \" \n",
      ">>>> \n",
      ">>>> \n",
      ">>>> \" \n",
      ">>>> \n",
      ">>>> \" I am be a game and <UNK> \" I don' I can be <UNK> <UNK> <UNK> <UNK> and <UNK> \" I have to play <UNK> and <UNK> and <UNK> and <UNK> <UNK> \" I am <UNK> <UNK> and it is <UNK> <UNK> <UNK> and I have <UNK> \" he is not a lot and <UNK> <UNK> \" \n",
      ">>>> The \" We are a great in <UNK> \" he said. \" I am be in his <UNK> and <UNK> \" I have <UNK> <UNK> <UNK> and it is <UNK> and it was <UNK> and it is to <UNK> \" I don' I can be <UNK> \" \n",
      ">>>> The \" \n",
      ">>>> \" I have been <UNK> and I am <UNK> \" he was be <UNK> \" I have to be a <UNK> <UNK> and I have been to be a lot of a final and in his first Nations \" \n",
      ">>>> \" \n",
      ">>>> \n",
      ">>>> \" We have been a lot of his \" I have to be <UNK> and a lot of <UNK> \" he is not be in a <UNK> <UNK> and he is a <UNK> <UNK> \" \n",
      ">>>> \" I don' t have <UNK> and <UNK> \" he said. \n",
      ">>>> \" The coach <UNK> <UNK> \" I am be a lot of his <UNK> \" he is <UNK> <UNK> \" I am be in <UNK> <UNK> \" \n",
      ">>>> \n",
      ">>>> \n",
      ">>>> \n",
      ">>>> The <UNK> and is <UNK> <UNK> <UNK> <UNK> <UNK> \" We are <UNK> and I don' t have <UNK> <UNK> \" I am a great in a lot and <UNK> \" I am a <UNK> <UNK> \" \n",
      ">>>> \" I am be in his \" \n",
      ">>>> The The \n",
      ">>>> \n",
      ">>>> \" The <UNK> and I have been to <UNK> \" \n",
      ">>>> \n",
      ">>>> \n",
      ">>>> The \" \n",
      ">>>> \" I don' it is to <UNK> and it was be a lot and a great in his \" \n",
      ">>>> \n",
      ">>>> \" The coach <UNK> in a lot of his and he said. \n",
      ">>>> \n",
      ">>>> The <UNK> <UNK> and I am be a lot of a lot and I have been a great in <UNK> \" I am have been in <UNK> \" \n",
      ">>>> The <UNK> and is to <UNK> and I don' t be <UNK> <UNK> <UNK> <UNK> \" \n",
      ">>>> \n",
      ">>>> \n",
      ">>>> The \" We have been <UNK> and a game of <UNK> <UNK> <UNK> \" he was <UNK> <UNK> and I have to be in a first game in <UNK> \" \n",
      ">>>> The <UNK> \" I don' I can be <UNK> \" he is not a great game of a lot \" I am be <UNK> and it is <UNK> <UNK> \" I am <UNK> and it is <UNK> <UNK> <UNK> \" he is not be in his first game of <UNK> first <UNK> and he is not to play <UNK> \" \n",
      ">>>> \" \n",
      ">>>> \" The final of his side in his first <UNK> <UNK> \" I am <UNK> \" \n",
      ">>>> \n",
      ">>>> \n",
      ">>>> \n",
      ">>>> \" I have to <UNK> and <UNK> and I am be a <UNK> \" I am be in a <UNK> <UNK> \" I don' \n",
      ">>>> t be in <UNK> \" \n",
      ">>>> \n",
      ">>>> \n",
      ">>>> \n",
      ">>>> The coach coach year- old <UNK> <UNK> <UNK> and <UNK> <UNK> and <UNK> <UNK> and I am a <UNK> <UNK> \" I don' t be a <UNK> and I am a lot and <UNK> <UNK> \" he said. \n",
      ">>>> The \" \n",
      ">>>> The coach year- year- year- \n",
      ">>>> \n",
      ">>>> The <UNK> \" \n",
      ">>>> \" The <UNK> \" \n",
      ">>>> \" The final and I am a lot \" he is a <UNK> <UNK> <UNK> <UNK> and he said. \n",
      ">>>> The <UNK> <UNK> <UNK> <UNK> \" \n",
      ">>>> The The final of his final in his <UNK> \" We will be <UNK> <UNK> and I am be <UNK> <UNK> <UNK> \" he is not to <UNK> \" I don' t be a lot \" I have <UNK> and <UNK> <UNK> and <UNK> <UNK> \" he is not a <UNK> <UNK> \" I am <UNK> <UNK> \" \n",
      ">>>> \n",
      ">>>> \n",
      ">>>> The \" \n",
      ">>>> The The coach <UNK> <UNK> \" I don' I have <UNK> \" I am be <UNK> <UNK> <UNK> \" he was be in a lot \" \n",
      ">>>> \" The coach coach <UNK> in a final of <UNK> \" he is not to be <UNK> <UNK> <UNK> <UNK> <UNK> and he was <UNK> <UNK> <UNK> \" he is a lot and a great in a final of <UNK> \" he was be <UNK> <UNK> <UNK> and <UNK> \" I don' I can be in his \" \n",
      ">>>> \n",
      ">>>> \n",
      ">>>> The \" \n",
      ">>>> \n",
      ">>>> The <UNK> and is <UNK> <UNK> and <UNK> and <UNK> <UNK> <UNK> <UNK> and <UNK> \" I am be in a <UNK> \" \n",
      ">>>> \n",
      ">>>> The <UNK> and I have <UNK> <UNK> and it was a <UNK> <UNK> and <UNK> \" he was a <UNK> <UNK> <UNK> \" \n",
      ">>>> \" The <UNK> \" I have been a lot and <UNK> <UNK> and he was be in a lot of <UNK> <UNK> and I don' \n",
      ">>>> \n",
      ">>>> \n",
      ">>>> The lot \n",
      ">>>> The World Cup <UNK> \" We have <UNK> \" I am a <UNK> \" I have <UNK> <UNK> and I have been a great <UNK> \" I don' \n",
      ">>>> \n",
      ">>>> \n",
      ">>>> \" The World in <UNK> \" he was <UNK> <UNK> and it was to <UNK> <UNK> and <UNK> and <UNK> <UNK> <UNK> \" \n",
      ">>>> \n",
      ">>>> \n",
      ">>>> \n",
      ">>>> The coach <UNK> <UNK> and <UNK> and <UNK> and <UNK> \" I have to <UNK> \" he was <UNK> and I have to <UNK> and I am a lot of his \"\n"
     ]
    }
   ],
   "source": [
    "%time\n",
    "# Generate text of 1000 words\n",
    "full=\"\"\"The pair are facing lengthy bans for the missed tests, including one on the eve of last year's Athens Olympics. \n",
    "They were set to learn their fate by the end of February, but late evidence from them has pushed the date back. \"A decision is now expected by around mid-March,\" said one of their lawyers, Michalis Dimitrakopoulos.\"\"\"\n",
    "print(restore_text(getBestCandidate(sess,model,1000,'I',dictionary)))"
   ]
  },
  {
   "cell_type": "code",
   "execution_count": 32,
   "metadata": {
    "collapsed": true
   },
   "outputs": [],
   "source": [
    "#todo\n",
    "\n",
    "# version2\n",
    "# output\n",
    "# normalize probabilities\n",
    "# Evaluation\n",
    "\n",
    "# char-level\n",
    "\n",
    "# larger network\n",
    "\n",
    "# Russian\n",
    "# Arabic \n",
    "# French\n",
    "\n",
    "# paper RECURRENT NEURAL NETWORK REGULARIZATION,2015"
   ]
  }
 ],
 "metadata": {
  "kernelspec": {
   "display_name": "Python 3",
   "language": "python",
   "name": "python3"
  },
  "language_info": {
   "codemirror_mode": {
    "name": "ipython",
    "version": 3
   },
   "file_extension": ".py",
   "mimetype": "text/x-python",
   "name": "python",
   "nbconvert_exporter": "python",
   "pygments_lexer": "ipython3",
   "version": "3.5.2"
  }
 },
 "nbformat": 4,
 "nbformat_minor": 2
}
