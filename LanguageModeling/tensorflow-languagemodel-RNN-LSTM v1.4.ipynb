{
 "cells": [
  {
   "cell_type": "markdown",
   "metadata": {},
   "source": [
    "In this version(1.4): \n",
    "\n",
    "- the previous version has the following problems:\n",
    "    - Repeat the same sentence too many times\n",
    "    - this problem was solved by randomly choose the candidates in beam search using probabilities, Like in Lottery\n",
    "\n",
    "In the upcoming versions:\n",
    "- Evaluation using perplexity\n",
    "- Beam search, randomize to not repeat the same sentence\n",
    "- apply to other languages\n",
    "    - Russian\n",
    "    - Arabic\n",
    "    - French\n",
    "- apply this network for char-level language modeling.\n",
    "    \n",
    "For restoring previous check-point, I was forced to define the whole model in this notebook, rather that importing it from an external .py module."
   ]
  },
  {
   "cell_type": "code",
   "execution_count": 1,
   "metadata": {
    "collapsed": false,
    "scrolled": true
   },
   "outputs": [
    {
     "name": "stdout",
     "output_type": "stream",
     "text": [
      "[nltk_data] Downloading package stopwords to /home/zein/nltk_data...\n",
      "[nltk_data]   Package stopwords is already up-to-date!\n"
     ]
    }
   ],
   "source": [
    "import numpy as np\n",
    "from lib.dictionarymd import Dictionary\n",
    "from lib.textprocessingmd import convert_text\n",
    "from lib.fileoperationmd import getFilesFromPath,readTxtFromFile"
   ]
  },
  {
   "cell_type": "code",
   "execution_count": 2,
   "metadata": {
    "collapsed": true
   },
   "outputs": [],
   "source": [
    "from hyper import HyperParameters\n",
    "hp=HyperParameters()"
   ]
  },
  {
   "cell_type": "code",
   "execution_count": 3,
   "metadata": {
    "collapsed": false
   },
   "outputs": [
    {
     "name": "stdout",
     "output_type": "stream",
     "text": [
      "199.txt not opened\n"
     ]
    }
   ],
   "source": [
    "# Load articles - form dictionary - load dictionary\n",
    "filenames=getFilesFromPath(hp.DATAPATH)\n",
    "dataset=[]\n",
    "text=\"\"\n",
    "for fn in filenames:\n",
    "    ntext=convert_text(readTxtFromFile(hp.DATAPATH,fn))\n",
    "    text+=ntext\n",
    "    dataset.append(ntext)\n",
    "\n",
    "dictionary=Dictionary()\n",
    "dictionary.make_vocab(text,hp.VOCPATH,hp.VOCFILE)\n",
    "dictionary.load_vocab(hp.VOCPATH,hp.VOCFILE)"
   ]
  },
  {
   "cell_type": "markdown",
   "metadata": {},
   "source": [
    "# Train"
   ]
  },
  {
   "cell_type": "code",
   "execution_count": 4,
   "metadata": {
    "collapsed": false
   },
   "outputs": [
    {
     "name": "stderr",
     "output_type": "stream",
     "text": [
      "/home/zein/.local/lib/python3.5/site-packages/h5py/__init__.py:36: FutureWarning: Conversion of the second argument of issubdtype from `float` to `np.floating` is deprecated. In future, it will be treated as `np.float64 == np.dtype(float).type`.\n",
      "  from ._conv import register_converters as _register_converters\n"
     ]
    }
   ],
   "source": [
    "import tensorflow as tf\n",
    "import numpy as np\n",
    "from RNN_LSTM_LM import LSTMModel\n",
    "from helpers import batches_generator\n",
    "from helpers import Beam\n",
    "from helpers import beam_search,getBestCandidate\n",
    "\n",
    "tf.reset_default_graph()"
   ]
  },
  {
   "cell_type": "code",
   "execution_count": 5,
   "metadata": {
    "collapsed": false
   },
   "outputs": [
    {
     "name": "stdout",
     "output_type": "stream",
     "text": [
      "WARNING:tensorflow:From /home/zein/.local/lib/python3.5/site-packages/tensorflow/python/ops/clip_ops.py:113: calling reduce_sum (from tensorflow.python.ops.math_ops) with keep_dims is deprecated and will be removed in a future version.\n",
      "Instructions for updating:\n",
      "keep_dims is deprecated, use keepdims instead\n"
     ]
    }
   ],
   "source": [
    "model = LSTMModel(vocabulary_size=len(dictionary.word2idx), n_tags=len(dictionary.word2idx), embedding_dim=hp.embedding_dim,\n",
    "                  n_hidden_rnn=hp.n_hidden_rnn, PAD_index=dictionary.word2idx['<PAD>'])\n",
    "sess = tf.Session()\n",
    "sess.run(tf.global_variables_initializer())\n",
    "#model_checkpoint = './model.chkpt'\n",
    "saver = tf.train.Saver()"
   ]
  },
  {
   "cell_type": "code",
   "execution_count": 6,
   "metadata": {
    "collapsed": false,
    "scrolled": false
   },
   "outputs": [
    {
     "name": "stdout",
     "output_type": "stream",
     "text": [
      "ُEboch 50/50.batch 511/511 \n",
      "Epoch 49: <START> I ' m happy to be a good chance to the first set . \" #endl , \" I ' m not to be in a great opportunity for me . I ' ve been very happy with a great game . I ' ll play in a great game and we are not a good game , I am happy with the way that I was a great player and we have to have a bit nervous . \" I am very disappointed and it ' ll have to have a bit more . I am very good for the end , \" said the game and we have a great chance . I ' ve had been very happy for a great player . #endl \" We ' ve been a good chance . \" #endl \" We ' re a good performance in the first half . \"\n",
      "...training finished.\n"
     ]
    }
   ],
   "source": [
    "from IPython.display import clear_output\n",
    "learning_rate=hp.learning_rate\n",
    "print('Start training... \\n')\n",
    "results=\"\"\n",
    "start=0\n",
    "for epoch in range(start,hp.n_epochs):\n",
    "    newc=getBestCandidate(sess,model,150,\"I\",dictionary)\n",
    "    results=\"\\nEpoch {}: {}\".format(epoch,newc)\n",
    "    # For each epoch evaluate the model on train and validation data\n",
    "    #print('-' * 20 + ' Epoch {} '.format(epoch+1) + 'of {} '.format(hp.n_epochs) + '-' * 20+results)\n",
    "    \n",
    "    counter=0\n",
    "    # Train the model\n",
    "    for x_batch, y_batch, lengths in batches_generator(hp.batch_size, dataset,dictionary):\n",
    "        \n",
    "        clear_output(wait=True)\n",
    "        counter=counter+1\n",
    "        print(\"ُEboch {}/{}.batch {}/{} {}\".format(epoch+1,hp.n_epochs,counter,len(dataset)//hp.batch_size,results))\n",
    "        model.train_on_batch(sess, x_batch, y_batch, lengths, learning_rate, hp.dropout_keep_probability)\n",
    "    # Decaying the learning rate\n",
    "    saver.save(sess, hp.MODEL_CHKPNT_PATH,global_step=epoch)\n",
    "    learning_rate = learning_rate / 1.61#hp.learning_rate_decay\n",
    "    \n",
    "print('...training finished.')"
   ]
  },
  {
   "cell_type": "code",
   "execution_count": 7,
   "metadata": {
    "collapsed": false
   },
   "outputs": [
    {
     "name": "stdout",
     "output_type": "stream",
     "text": [
      "CPU times: user 0 ns, sys: 0 ns, total: 0 ns\n",
      "Wall time: 11.2 µs\n",
      "<START> I have a chance for a good team , and the <UNK> is not going . But he was a great player . \" I think it is a lot of the ball , I am not to get a good game . I think we can ' ll play the ball , but I think I was very happy with it , but we have a good team . I think I think it is not to have a lot to be in the game . \" I think I ' ve had been a great game . It is the same way to the same - class game . \" #endl #endl \" The world record of the game , I am happy to play in the end , but I ' ve had been in a lot to play , but we ' ve been very good enough for the game . #endl #endl \" We are going out for the club . #endl I have a great game , but it is the best time . It is the most fearsome first two years of their game . \" The world record holder , the world record holder is the most fearsome first - half replacement for a <UNK> of their own side , which begins . The 31 . \" We ' re looking to be able for me , \" she told the team ' d have to get the game , and the IAAF is a lot of the ball . It is the same - year contract and I am happy to get back to the way to get back and I am not going to play the way . It was the most fearsome first major team . I am happy to be able for a lot to get a bit of the same game , \" he told the team - mate , \" he added , who has not yet been on the ball in a second half and the <UNK> of a <UNK> - time in the first round of their second round in a new deal with a <UNK> - time , who was in a new club . \" We are still the same , \" she said : and I ' ve got to be in the game . I am happy with the game . I ' ll be a great game , but it is a good chance to get a bit nervous , and the players have a good team to get a lot of confidence and I am happy to get back . I ' ll have a great opportunity to get a bit of a lot . It ' s the game . #endl I am very disappointed with a lot of the same time and we have a good chance . \" #endl \" The world number two , the club is the right time , but the game was a lot more . #endl I have to have a lot more , but it is a lot of the ball , I was very happy with a great game and it ' d be able . I am not a lot to be a great game , but I ' m going at the end . \" The IAAF is a great game , but I ' ll have been a good chance to be able . \" I ' m sure we ' re not going to get back to get back and I think it is the ball . I think I ' m not to be able on the game and we have a great game and it is going to play in a great game , \" he said , \" he added , \" said Ruddock , \" he said . The IAAF is not to have a new contract to win . \" The world number one was the most fearsome first Grand Slams , \" said the game . \" #endl , the IAAF is the first - half - time . #endl \" I am happy to get back on to win it , and I am very good and it is going for me to play . It ' ll have a good performance . It ' d not have been in my mind . I ' m going on the way that he was not going to get a good game and it is going into my mind . I ' ll play in a lot more than the game . #endl \" We are still the best players , I ' m going out for a great opportunity . \" The world record of his side ' s team - mate the best thing about a good team . \" #endl #endl But the club is not a lot to play . But the IAAF is not going for the first set , \" said Robinson , \" she added : I am happy that he was not to play the game . I am very good for the game . \" I am very happy to be the best time , \" said Ruddock , who is a chance to be in his side . \" The IAAF is a lot of confidence and the best of the game , but it was not to be a good chance . I ' ll be a great player and I ' ll play the game and we are not to be able for the way to be a great opportunity for me . I think I am very disappointed . \" I ' d have to be a great player , but it is a good chance to get a lot of the game , \" she told his team . \" The IAAF is the first - half - half goal . #endl \" The pair are\n"
     ]
    }
   ],
   "source": [
    "%time\n",
    "# Generate text of 1000 words\n",
    "full=\"\"\"The pair are facing lengthy bans for the missed tests, including one on the eve of last year's Athens Olympics. \n",
    "They were set to learn their fate by the end of February, but late evidence from them has pushed the date back. \"A decision is now expected by around mid-March,\" said one of their lawyers, Michalis Dimitrakopoulos.\"\"\"\n",
    "print(getBestCandidate(sess,model,1000,'I',dictionary))"
   ]
  },
  {
   "cell_type": "code",
   "execution_count": 32,
   "metadata": {
    "collapsed": true
   },
   "outputs": [],
   "source": [
    "#todo\n",
    "\n",
    "# version2\n",
    "# output\n",
    "# normalize probabilities\n",
    "# Evaluation\n",
    "\n",
    "# char-level\n",
    "\n",
    "# larger network\n",
    "\n",
    "# Russian\n",
    "# Arabic \n",
    "# French\n",
    "\n",
    "# paper RECURRENT NEURAL NETWORK REGULARIZATION,2015"
   ]
  }
 ],
 "metadata": {
  "kernelspec": {
   "display_name": "Python 3",
   "language": "python",
   "name": "python3"
  },
  "language_info": {
   "codemirror_mode": {
    "name": "ipython",
    "version": 3
   },
   "file_extension": ".py",
   "mimetype": "text/x-python",
   "name": "python",
   "nbconvert_exporter": "python",
   "pygments_lexer": "ipython3",
   "version": "3.5.2"
  }
 },
 "nbformat": 4,
 "nbformat_minor": 2
}
