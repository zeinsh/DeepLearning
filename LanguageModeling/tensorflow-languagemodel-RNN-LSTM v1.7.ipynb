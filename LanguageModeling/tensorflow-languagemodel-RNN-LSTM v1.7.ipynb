{
 "cells": [
  {
   "cell_type": "markdown",
   "metadata": {},
   "source": [
    "In this version(1.7): \n",
    "- Text processing\n",
    "    - punctuations, insert space to the right only; done\n",
    "    - inverse transform; done\n",
    "- calculate perplexity during training from loss function.; done\n",
    "- Training, fix number of token in a single epoch and pass the state of an epoch to the next epoch; done\n",
    "- Penn Treebank http://www.nltk.org/howto/corpus.html. \n",
    "    - calculate train loss;  done\n",
    "    - calculate valid loss/perplexity; done\n",
    "    - calculate test loss/perplexity; done\n",
    "    - replace \\n with #endl; done\n",
    "    - generator --> text into parts each part 2000 tokens.; done\n",
    "    - check how to join perplexities from different epochs\n",
    "    \n",
    "    \n",
    "In the upcoming versions:\n",
    "\n",
    "- apply to other languages\n",
    "    - Russian\n",
    "    - Arabic\n",
    "    - French\n",
    "- think of the initial state of LSTM\n",
    "- apply this network for char-level language modeling.\n",
    "- label smoothing; Christian Szegedy, Vincent Vanhoucke, Sergey Ioffe, Jonathon Shlens, and Zbigniew Wojna.\n",
    "Rethinking the inception architecture for computer vision. CoRR, abs/1512.00567, 2015.\n",
    "\n",
    "\n",
    "\n",
    "\n",
    "- https://www.quora.com/What-perplexities-do-state-of-the-art-language-models-achieve\n",
    "-  paper RECURRENT NEURAL NETWORK REGULARIZATION,2015\n",
    "    - the idea of this paper, apply dropout on non-recurrent connections only\n",
    "- https://arxiv.org/pdf/1308.0850.pdf\n",
    "- schedule inference\n",
    "    - you have probability of using inference E\n",
    "    - with chance E, use the output of the previous token instead of the ground truth label\n",
    "\n",
    "For restoring previous check-point, I was forced to define the whole model in this notebook, rather that importing it from an external .py module."
   ]
  },
  {
   "cell_type": "code",
   "execution_count": 1,
   "metadata": {
    "collapsed": false,
    "scrolled": true
   },
   "outputs": [],
   "source": [
    "import numpy as np\n",
    "from matplotlib import pyplot as plt\n",
    "from lib.dictionarymd import Dictionary\n",
    "from IPython.display import clear_output\n",
    "#from lib.textprocessingmd import convert_text\n",
    "from lib.fileoperationmd import getFilesFromPath,readTxtFromFile,log,clearLog"
   ]
  },
  {
   "cell_type": "code",
   "execution_count": 2,
   "metadata": {
    "collapsed": false
   },
   "outputs": [],
   "source": [
    "def convert_text(text):\n",
    "    return text.replace('\\n','#endl')"
   ]
  },
  {
   "cell_type": "code",
   "execution_count": 3,
   "metadata": {
    "collapsed": true
   },
   "outputs": [],
   "source": [
    "from hyper import HyperParameters\n",
    "hp=HyperParameters()\n",
    "hp.DATAPATH='./data/ptb'\n",
    "fname_train='ptb.train.txt'\n",
    "fname_test ='ptb.test.txt'\n",
    "fname_valid='ptb.valid.txt'\n",
    "hp.batch_size=16\n",
    "hp.LOGFILE=\"v1.7.log\""
   ]
  },
  {
   "cell_type": "code",
   "execution_count": 4,
   "metadata": {
    "collapsed": true
   },
   "outputs": [],
   "source": [
    "def loadData(path,fname):\n",
    "    text=readTxtFromFile(path,fname)\n",
    "    return [line for line in text.split('\\n') if len(line)>10]"
   ]
  },
  {
   "cell_type": "code",
   "execution_count": 5,
   "metadata": {
    "collapsed": false
   },
   "outputs": [],
   "source": [
    "# --- Load articles - form dictionary - load dictionary\n",
    "filenames=getFilesFromPath(hp.DATAPATH)\n",
    "text=convert_text(readTxtFromFile(hp.DATAPATH,fname_train))\n",
    "\n",
    "dictionary=Dictionary()\n",
    "dictionary.make_vocab(text,hp.VOCPATH,hp.VOCFILE)"
   ]
  },
  {
   "cell_type": "code",
   "execution_count": 6,
   "metadata": {
    "collapsed": false
   },
   "outputs": [],
   "source": [
    "dictionary=Dictionary()\n",
    "dictionary.load_vocab(hp.VOCPATH,hp.VOCFILE)\n",
    "dataset=[]\n",
    "trainset=convert_text(readTxtFromFile(hp.DATAPATH,fname_train))\n",
    "validset=convert_text(readTxtFromFile(hp.DATAPATH,fname_valid))\n",
    "testset=convert_text(readTxtFromFile(hp.DATAPATH,fname_test))"
   ]
  },
  {
   "cell_type": "markdown",
   "metadata": {},
   "source": [
    "# Train"
   ]
  },
  {
   "cell_type": "code",
   "execution_count": 7,
   "metadata": {
    "collapsed": false
   },
   "outputs": [
    {
     "name": "stderr",
     "output_type": "stream",
     "text": [
      "/home/zein/.local/lib/python3.5/site-packages/h5py/__init__.py:36: FutureWarning: Conversion of the second argument of issubdtype from `float` to `np.floating` is deprecated. In future, it will be treated as `np.float64 == np.dtype(float).type`.\n",
      "  from ._conv import register_converters as _register_converters\n"
     ]
    }
   ],
   "source": [
    "import tensorflow as tf\n",
    "import numpy as np\n",
    "from RNN_LSTM_LM import LSTMModel\n",
    "#from helpers import batches_generator\n",
    "from helpers import Beam\n",
    "from helpers import beam_search,getBestCandidate\n",
    "\n",
    "clearLog(hp.LOGPATH,hp.LOGFILE)\n",
    "tf.reset_default_graph()"
   ]
  },
  {
   "cell_type": "code",
   "execution_count": 8,
   "metadata": {
    "collapsed": true
   },
   "outputs": [],
   "source": [
    "def batches_generator(seq_len, text,dictionary,\n",
    "                      shuffle=False, allow_smaller_last_batch=True):\n",
    "    \"\"\"Generates padded batches of tokens and tags.\"\"\"\n",
    "    \n",
    "    vec=dictionary.text2vec(text) \n",
    "    n_samples=len(vec)-1\n",
    "\n",
    "    n_batches = n_samples // seq_len\n",
    "    if allow_smaller_last_batch and n_samples % seq_len:\n",
    "        n_batches += 1\n",
    "\n",
    "    for k in range(n_batches):\n",
    "        batch_start = k * seq_len\n",
    "        batch_end = min((k + 1) * seq_len, n_samples)\n",
    "        current_batch_size = batch_end - batch_start\n",
    "        x = np.array([vec[batch_start:batch_end]])\n",
    "        y = np.array([vec[batch_start+1:batch_end+1]])\n",
    "            \n",
    "        lengths = np.array([current_batch_size], dtype=np.int32)\n",
    "        \n",
    "        yield x, y, lengths, k+1, n_batches"
   ]
  },
  {
   "cell_type": "code",
   "execution_count": 9,
   "metadata": {
    "collapsed": false
   },
   "outputs": [
    {
     "name": "stdout",
     "output_type": "stream",
     "text": [
      "WARNING:tensorflow:From /home/zein/.local/lib/python3.5/site-packages/tensorflow/python/ops/clip_ops.py:113: calling reduce_sum (from tensorflow.python.ops.math_ops) with keep_dims is deprecated and will be removed in a future version.\n",
      "Instructions for updating:\n",
      "keep_dims is deprecated, use keepdims instead\n"
     ]
    }
   ],
   "source": [
    "model = LSTMModel(vocabulary_size=len(dictionary.word2idx)+4, n_tags=len(dictionary.word2idx)+4, embedding_dim=hp.embedding_dim,\n",
    "                  n_hidden_rnn=hp.n_hidden_rnn, PAD_index=dictionary.word2idx['<PAD>'])\n",
    "sess = tf.Session()\n",
    "sess.run(tf.global_variables_initializer())\n",
    "#model_checkpoint = './model.chkpt'\n",
    "saver = tf.train.Saver()"
   ]
  },
  {
   "cell_type": "code",
   "execution_count": 10,
   "metadata": {
    "collapsed": false,
    "scrolled": false
   },
   "outputs": [],
   "source": [
    "def compute_perplexity(sess,model,text):\n",
    "    sm=[]\n",
    "    for x_batch, y_batch, lengths ,counter, total in batches_generator(500, text,dictionary):\n",
    "        clear_output(wait=True)\n",
    "        print(\"ُCompute validation: {}/{}, perp={}\".format(counter,total,np.exp(np.mean(sm))))\n",
    "        per=model.calculatePerplexity(sess,x_batch,y_batch, lengths)\n",
    "        sm.append(per)\n",
    "    return np.exp(np.mean(sm))"
   ]
  },
  {
   "cell_type": "code",
   "execution_count": 15,
   "metadata": {
    "collapsed": true
   },
   "outputs": [],
   "source": [
    "train=[]\n",
    "validation=[]\n",
    "test=[]"
   ]
  },
  {
   "cell_type": "code",
   "execution_count": 14,
   "metadata": {
    "collapsed": false,
    "scrolled": false
   },
   "outputs": [
    {
     "name": "stdout",
     "output_type": "stream",
     "text": [
      "ُEboch 50/50.batch 1861/1860 \n",
      "Epoch 49: <start> the meaning of life is restated to the u.s. market price price and repay the new post #endl refcorp said net fell slightly in the third consecutive month of the sale #endl a company 's new york said it has been the most active and a new agreement in a year earlier the u.s. unit #endl the company 's stock market has n't been to the company said it was in the first time in a year ago and the company #endl a spokesman declined #endl in new mexico said it expects a loss #endl the market said its stock closed #endl a new company has been the most active and in a year earlier #endl in new jersey new zealand the market 's largest u.s. auto giant the company is n't a major company said #endl the company had to be a major company to the company and a year in new england to; perplexity: train/validation 187.2996826171875/261.34881591796875\n"
     ]
    },
    {
     "data": {
      "image/png": "[encoded data removed]",
      "text/plain": [
       "<Figure size 432x288 with 1 Axes>"
      ]
     },
     "metadata": {},
     "output_type": "display_data"
    },
    {
     "name": "stdout",
     "output_type": "stream",
     "text": [
      "...training finished.\n"
     ]
    }
   ],
   "source": [
    "learning_rate=hp.learning_rate\n",
    "print('Start training... \\n')\n",
    "results=\"\"\n",
    "start=25\n",
    "for epoch in range(start,hp.n_epochs):\n",
    "    validPerp=compute_perplexity(sess,model,validset)\n",
    "    validation.append(validPerp)\n",
    "    newc=getBestCandidate(sess,model,150,\"the meaning of life is\",dictionary)\n",
    "    results=\"\\nEpoch {}: {}; perplexity: validation {}\".format(epoch,newc, validPerp)\n",
    "    log(hp.LOGPATH,hp.LOGFILE,results)\n",
    "    # For each epoch evaluate the model on train and validation data\n",
    "    #print('-' * 20 + ' Epoch {} '.format(epoch+1) + 'of {} '.format(hp.n_epochs) + '-' * 20+results)\n",
    "    \n",
    "    perplexity=[]\n",
    "    counter=0\n",
    "    zero_state=True\n",
    "    st_c,st_h=None,None\n",
    "    # Train the model\n",
    "    for x_batch, y_batch, lengths ,counter, total in batches_generator(500, trainset,dictionary,shuffle=True):\n",
    "        clear_output(wait=True)\n",
    "        \n",
    "        counter=counter+1\n",
    "        print(\"ُEboch {}/{}.batch {}/{} {}\".format(epoch+1,hp.n_epochs,counter,total,results))\n",
    "        plt.plot(perplexity)\n",
    "        plt.grid()\n",
    "        plt.show()\n",
    "        loss,states=model.train_on_batch(sess, x_batch, y_batch, lengths, learning_rate, hp.dropout_keep_probability\n",
    "                                        ,st_c,st_h, zero_state)\n",
    "        st_c,st_h=states\n",
    "        zero_state=False\n",
    "        if counter%100==0:\n",
    "            #validPerp=compute_perplexity(sess,model,validset)\n",
    "            newc=getBestCandidate(sess,model,150,\"the meaning of life is\",dictionary)\n",
    "            results=\"\\nEpoch {}: {}; perplexity: train/validation {}/{}\".format(epoch,newc, loss,validPerp)\n",
    "            perplexity.append(loss)\n",
    "    train.append(np.mean(perplexity))\n",
    "    # Decaying the learning rate\n",
    "    saver.save(sess, hp.MODEL_CHKPNT_PATH,global_step=epoch)\n",
    "    if epoch>6:\n",
    "        learning_rate = learning_rate / 1.61#hp.learning_rate_decay\n",
    "    \n",
    "print('...training finished.')"
   ]
  },
  {
   "cell_type": "code",
   "execution_count": 19,
   "metadata": {
    "collapsed": false
   },
   "outputs": [
    {
     "data": {
      "text/plain": [
       "[]"
      ]
     },
     "execution_count": 19,
     "metadata": {},
     "output_type": "execute_result"
    }
   ],
   "source": [
    "validation"
   ]
  },
  {
   "cell_type": "code",
   "execution_count": 12,
   "metadata": {
    "collapsed": false
   },
   "outputs": [
    {
     "name": "stdout",
     "output_type": "stream",
     "text": [
      "ُCompute validation: 165/165, perp=186.86122131347656\n",
      "test perplexity is 187.22975158691406\n"
     ]
    }
   ],
   "source": [
    "testPerp=compute_perplexity(sess,model,testset)\n",
    "print(\"test perplexity is {}\".format(testPerp))"
   ]
  },
  {
   "cell_type": "code",
   "execution_count": 16,
   "metadata": {
    "collapsed": false,
    "scrolled": true
   },
   "outputs": [
    {
     "name": "stdout",
     "output_type": "stream",
     "text": [
      "CPU times: user 0 ns, sys: 0 ns, total: 0 ns\n",
      "Wall time: 9.3 µs\n",
      "<start> <unk> needham kronor ark he says his mother 's own in the first eight minutes to be n't yet in a lot more the new jersey who was n't the most active #endl mr. noriega and mr. bush was n't a new company that he has a new proposal to the company #endl but the company said the u.s. attorney general manager is a new company that has n't seen a lot #endl in addition of mr. lawson and a new york stock markets and that it would be a new york firm #endl in the third market was a lot #endl but he says the new york mercantile futures markets are the most popular #endl the company also had to pay the company #endl but in new jersey the market said it was the most important #endl the new company 's stock market 's new york-based company has n't been in the company said it will continue #endl but that 's a lot to the company has a new bid #endl in the first quarter the new york-based stock is expected #endl but they had been to a company said that they said the company said #endl a new company has a loss #endl in addition to the u.s. #endl in the past few days in the third year the new jersey and financial markets are n't to the u.s. to a new company #endl in new orleans the market is expected to have to sell the new york stock exchange and the u.s. #endl but in new mexico the company 's board 's new company has been the only way to sell the company said #endl but it was the first major banks in the market #endl but it also will continue in new england and its new york stock markets in the first time #endl in the first section was in new hampshire #endl the new company 's stock closed yesterday in an effort for the u.s. #endl in new york trading on its first nine years old was n't disclosed that it will take over a few days #endl in new england 's stock and a new york-based stock exchange was in the u.s. market #endl in the past few weeks of its stock closed in a new york trading price #endl in new england and new york banks and the u.s. currency opened in the first six weeks to a year #endl in composite volume is n't the only reason to be n't in the first nine years #endl in addition the company 's stock market said they are a unit and it will be sold #endl in new england and other companies have n't yet been the largest and to the company and a new post and its own stock #endl it also is n't the same #endl a company also has n't been a major shareholder in a year earlier according by the company of a new bid in a year and in the third quarter #endl it has been the largest and the company #endl but a new york-based new york market has a loss of a loss of about half of a year earlier this summer #endl in new orleans a company also will continue for its own company #endl in the u.s. 's largest market activity in the third consecutive period of the company said #endl the company said they said the company 's shares were in a year ago in new york and its own company 's new company said #endl but a new bid was in its new product #endl the market 's stock prices are the first step in the u.s. and a year earlier #endl it is expected #endl in the third market the u.s. currency is n't a major supplier #endl the company said it will have been in the past two quarters #endl it 's a lot #endl in a year 's first nine shares of the company is the most popular #endl but it 's a lot more than a lot #endl in the past year ended oct. a month #endl but in addition it has been a major market 's new company and a new post in its own market for the new company 's stock and the new england department 's stock market in new york and a company #endl in a year earlier said the company said that it 's a lot #endl in the u.s. market the new york-based company has n't had been the company and a new post in its new products and its own and a company spokesman #endl but in addition the company 's board 's stock exchange in new jersey the company has been the most popular the new hampshire #endl but that it is expected by a year earlier the u.s. economy is a unit and the company said the new york-based #endl in the third period it was a unit and it is a unit #endl the market is n't in a new bid for a new company #endl in new mexico and the company has to the company said the company said it was the largest company and the company said the market for the company #endl but the new york-based company 's board has n't yet had been to the new york-based and a company spokesman #endl a company said it is the first step #endl but it is a new company to the company #endl the company has a loss that it was n't the most of their new company #endl the market was the company #endl but in the first quarter ended aug. last month 's largest stock closed at about a year ago and the new york #endl the new england of the new york stock exchanges have n't been a major company 's new york-based company #endl in a year earlier this fall in a new york market the market was the most significant business and a\n"
     ]
    }
   ],
   "source": [
    "%time\n",
    "# Generate text of 1000 words\n",
    "full=\"\"\"The pair are facing lengthy bans for the missed tests, including one on the eve of last year's Athens Olympics. \n",
    "They were set to learn their fate by the end of February, but late evidence from them has pushed the date back. \"A decision is now expected by around mid-March,\" said one of their lawyers, Michalis Dimitrakopoulos.\"\"\"\n",
    "print(getBestCandidate(sess,model,1000,'I',dictionary))"
   ]
  },
  {
   "cell_type": "code",
   "execution_count": null,
   "metadata": {
    "collapsed": true
   },
   "outputs": [],
   "source": [
    "#todo\n",
    "\n",
    "# version2\n",
    "# output\n",
    "# normalize probabilities\n",
    "# Evaluation\n",
    "\n",
    "# char-level\n",
    "\n",
    "# larger network\n",
    "\n",
    "# Russian\n",
    "# Arabic \n",
    "# French\n",
    "\n",
    "# paper RECURRENT NEURAL NETWORK REGULARIZATION,2015"
   ]
  }
 ],
 "metadata": {
  "kernelspec": {
   "display_name": "Python 3",
   "language": "python",
   "name": "python3"
  },
  "language_info": {
   "codemirror_mode": {
    "name": "ipython",
    "version": 3
   },
   "file_extension": ".py",
   "mimetype": "text/x-python",
   "name": "python",
   "nbconvert_exporter": "python",
   "pygments_lexer": "ipython3",
   "version": "3.5.2"
  }
 },
 "nbformat": 4,
 "nbformat_minor": 2
}
