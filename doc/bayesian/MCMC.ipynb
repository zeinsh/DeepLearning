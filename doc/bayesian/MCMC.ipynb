{
 "cells": [
  {
   "cell_type": "code",
   "execution_count": 1,
   "metadata": {
    "collapsed": true
   },
   "outputs": [],
   "source": [
    "import numpy as np"
   ]
  },
  {
   "cell_type": "markdown",
   "metadata": {},
   "source": [
    "<img src=\"../../img/MC01.png\"/>"
   ]
  },
  {
   "cell_type": "code",
   "execution_count": 2,
   "metadata": {
    "collapsed": true
   },
   "outputs": [],
   "source": [
    "transitions=np.array([[0.3,0.7],\n",
    "                      [0.5,0.5]])\n",
    "initialProb=np.array([1,0])"
   ]
  },
  {
   "cell_type": "code",
   "execution_count": 3,
   "metadata": {
    "collapsed": false
   },
   "outputs": [
    {
     "name": "stdout",
     "output_type": "stream",
     "text": [
      "Iteration 0: pi=[0.3 0.7]\n",
      "Iteration 1: pi=[0.44 0.56]\n",
      "Iteration 2: pi=[0.412 0.588]\n",
      "Iteration 3: pi=[0.4176 0.5824]\n",
      "Iteration 4: pi=[0.41648 0.58352]\n",
      "Iteration 5: pi=[0.416704 0.583296]\n",
      "Iteration 6: pi=[0.4166592 0.5833408]\n",
      "Iteration 7: pi=[0.41666816 0.58333184]\n",
      "Iteration 8: pi=[0.41666637 0.58333363]\n",
      "Iteration 9: pi=[0.41666673 0.58333327]\n",
      "Iteration 10: pi=[0.41666665 0.58333335]\n",
      "Iteration 11: pi=[0.41666667 0.58333333]\n",
      "Iteration 12: pi=[0.41666667 0.58333333]\n",
      "Iteration 13: pi=[0.41666667 0.58333333]\n",
      "Iteration 14: pi=[0.41666667 0.58333333]\n"
     ]
    }
   ],
   "source": [
    "prob=initialProb\n",
    "for i in range(15):\n",
    "    prob=np.matmul(prob,transitions)\n",
    "    print(\"Iteration {}: pi={}\".format(i,prob))"
   ]
  }
 ],
 "metadata": {
  "kernelspec": {
   "display_name": "Python 3",
   "language": "python",
   "name": "python3"
  },
  "language_info": {
   "codemirror_mode": {
    "name": "ipython",
    "version": 3
   },
   "file_extension": ".py",
   "mimetype": "text/x-python",
   "name": "python",
   "nbconvert_exporter": "python",
   "pygments_lexer": "ipython3",
   "version": "3.5.2"
  }
 },
 "nbformat": 4,
 "nbformat_minor": 0
}
